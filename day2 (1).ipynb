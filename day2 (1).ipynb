{
 "cells": [
  {
   "cell_type": "code",
   "execution_count": 3,
   "id": "77f86c0a-dbd7-4d7e-a995-1bd97539dece",
   "metadata": {},
   "outputs": [
    {
     "name": "stdout",
     "output_type": "stream",
     "text": [
      "blue\n",
      "yellow\n",
      "['red', 'blue', 'cyan', 'yellow', 'purple']\n",
      "['cyan', 'yellow', 'purple']\n"
     ]
    }
   ],
   "source": [
    "# Day 2\n",
    "# List\n",
    "colors = [\"red\", \"blue\", \"green\", \"yellow\", \"purple\"]\n",
    "print(colors[1])  \n",
    "print(colors[3])  \n",
    "colors[2] = \"cyan\"\n",
    "print(colors)  \n",
    "print(colors[2:])"
   ]
  },
  {
   "cell_type": "code",
   "execution_count": 5,
   "id": "b383bf74-4709-4ef0-be99-1c03878dfe46",
   "metadata": {},
   "outputs": [],
   "source": [
    "# Dictionary\n",
    "person = {\n",
    "    \"name\": \"Alice\",\n",
    "    \"age\": 25,\n",
    "    \"city\": \"New York\",\n",
    "    \"profession\": \"Engineer\",\n",
    "    \"hobby\": \"Photography\"\n",
    "}"
   ]
  },
  {
   "cell_type": "code",
   "execution_count": 13,
   "id": "f4b1ccbb-bbea-4118-abd6-53bdc303aa00",
   "metadata": {},
   "outputs": [
    {
     "name": "stdout",
     "output_type": "stream",
     "text": [
      "Alice\n",
      "Photography\n",
      "25\n",
      "name: Alice\n",
      "age: 25\n",
      "city: New York\n",
      "profession: Engineer\n",
      "hobby: Photography\n"
     ]
    }
   ],
   "source": [
    "print(person[\"name\"])  \n",
    "print(person[\"hobby\"])  \n",
    "print(person.get(\"age\"))  \n",
    "for key, value in person.items():\n",
    "    print(f\"{key}: {value}\")\n",
    "          "
   ]
  },
  {
   "cell_type": "code",
   "execution_count": null,
   "id": "d7b8c2f8-6077-4663-b8d9-c7534e4229d7",
   "metadata": {},
   "outputs": [],
   "source": [
    "\n",
    "# tuple\n",
    "animals = (\"lion\", \"tiger\", \"elephant\", \"giraffe\", \"zebra\")\n",
    "print(animals[0])  \n",
    "print(animals[-1])  \n",
    "print(animals[1:4])"
   ]
  }
 ],
 "metadata": {
  "kernelspec": {
   "display_name": "Python 3 (ipykernel)",
   "language": "python",
   "name": "python3"
  },
  "language_info": {
   "codemirror_mode": {
    "name": "ipython",
    "version": 3
   },
   "file_extension": ".py",
   "mimetype": "text/x-python",
   "name": "python",
   "nbconvert_exporter": "python",
   "pygments_lexer": "ipython3",
   "version": "3.12.4"
  }
 },
 "nbformat": 4,
 "nbformat_minor": 5
}
