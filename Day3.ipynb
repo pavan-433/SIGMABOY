{
 "cells": [
  {
   "cell_type": "code",
   "execution_count": 12,
   "id": "a1fa2b19-bfc4-46d2-9b82-375236fe43f0",
   "metadata": {},
   "outputs": [
    {
     "name": "stdin",
     "output_type": "stream",
     "text": [
      "Enter marks for Subject 1:  45\n",
      "Enter marks for Subject 2:  36\n",
      "Enter marks for Subject 3:  38\n"
     ]
    },
    {
     "name": "stdout",
     "output_type": "stream",
     "text": [
      "Grade: D-\n"
     ]
    }
   ],
   "source": [
    "# Day 3\n",
    "a = float(input(\"Enter marks for Subject 1: \"))\n",
    "b = float(input(\"Enter marks for Subject 2: \"))\n",
    "c = float(input(\"Enter marks for Subject 3: \"))\n",
    "\n",
    "avg = (a + b + c) / 3\n",
    "\n",
    "if avg >= 90:\n",
    "    result = \"A+\"\n",
    "elif 80 <= avg < 90:\n",
    "    result = \"A-\"\n",
    "elif 70 <= avg < 80:\n",
    "    result = \"B+\"\n",
    "elif 60 <= avg < 70:\n",
    "    result = \"C+\"\n",
    "elif 50 <= avg < 60:  \n",
    "    result = \"C-\"\n",
    "elif 50 <= avg < 60:  \n",
    "    result = \"D+\"\n",
    "elif 36 <= avg < 50:  \n",
    "    result = \"D-\"\n",
    "else:\n",
    "    result = \"Fail\"\n",
    "\n",
    "print(f\"Grade: {result}\")"
   ]
  },
  {
   "cell_type": "code",
   "execution_count": null,
   "id": "bbb064da-236d-46d4-9169-6e61fcad4ce7",
   "metadata": {},
   "outputs": [],
   "source": []
  }
 ],
 "metadata": {
  "kernelspec": {
   "display_name": "Python 3 (ipykernel)",
   "language": "python",
   "name": "python3"
  },
  "language_info": {
   "codemirror_mode": {
    "name": "ipython",
    "version": 3
   },
   "file_extension": ".py",
   "mimetype": "text/x-python",
   "name": "python",
   "nbconvert_exporter": "python",
   "pygments_lexer": "ipython3",
   "version": "3.12.4"
  }
 },
 "nbformat": 4,
 "nbformat_minor": 5
}
