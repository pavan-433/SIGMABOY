{
 "cells": [
  {
   "cell_type": "code",
   "execution_count": 27,
   "id": "81b32c4d-26f2-4c18-951f-fd6989671394",
   "metadata": {},
   "outputs": [],
   "source": [
    "import pandas as pd\n",
    "import numpy as np\n",
    "l1=[69,64,89,77]\n",
    "l2=[90,54,57,38]\n",
    "l3=[99,4,9,7]\n",
    "l4=[80,5,51,88]\n",
    "marks=[l1,l2,l3,l4]\n",
    "marks\n",
    "df=pd.DataFrame(marks,columns=['bio','che','geo','com'],index=['Tony','Steve','Peter','gwen'])\n",
    "df\n",
    "csvf = df.to_csv(r'C:\\Users\\mruh\\Downloads\\marks1.csv')\n"
   ]
  },
  {
   "cell_type": "code",
   "execution_count": null,
   "id": "cefccee2-f129-42d7-a797-b24ce9615e9f",
   "metadata": {},
   "outputs": [],
   "source": []
  },
  {
   "cell_type": "code",
   "execution_count": null,
   "id": "d2fdb51d-466d-4a4c-973b-327c0f63d441",
   "metadata": {},
   "outputs": [],
   "source": []
  }
 ],
 "metadata": {
  "kernelspec": {
   "display_name": "Python 3 (ipykernel)",
   "language": "python",
   "name": "python3"
  },
  "language_info": {
   "codemirror_mode": {
    "name": "ipython",
    "version": 3
   },
   "file_extension": ".py",
   "mimetype": "text/x-python",
   "name": "python",
   "nbconvert_exporter": "python",
   "pygments_lexer": "ipython3",
   "version": "3.12.4"
  }
 },
 "nbformat": 4,
 "nbformat_minor": 5
}
