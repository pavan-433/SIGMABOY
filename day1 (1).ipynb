{
 "cells": [
  {
   "cell_type": "code",
   "execution_count": 5,
   "id": "6878deb4-83f5-4c20-aaf8-558897ddb62c",
   "metadata": {},
   "outputs": [
    {
     "name": "stdout",
     "output_type": "stream",
     "text": [
      "Variable Values and Their Types:\n",
      "Integer: 10, Type: <class 'int'>\n",
      "Float: 20.5, Type: <class 'float'>\n",
      "String: 'Hello, Jupyter!', Type: <class 'str'>\n",
      "Boolean: True, Type: <class 'bool'>\n"
     ]
    }
   ],
   "source": [
    "# Day 1\n",
    "my_integer = 10          \n",
    "my_float = 20.5          \n",
    "my_string = \"Hello, Jupyter!\"\n",
    "my_boolean = True      \n",
    "\n",
    "\n",
    "print(\"Variable Values and Their Types:\")\n",
    "print(f\"Integer: {my_integer}, Type: {type(my_integer)}\")\n",
    "print(f\"Float: {my_float}, Type: {type(my_float)}\")\n",
    "print(f\"String: '{my_string}', Type: {type(my_string)}\")\n",
    "print(f\"Boolean: {my_boolean}, Type: {type(my_boolean)}\")\n"
   ]
  },
  {
   "cell_type": "code",
   "execution_count": null,
   "id": "f3f10b71-c107-4b42-9ca5-6592fe557e13",
   "metadata": {},
   "outputs": [],
   "source": []
  }
 ],
 "metadata": {
  "kernelspec": {
   "display_name": "Python 3 (ipykernel)",
   "language": "python",
   "name": "python3"
  },
  "language_info": {
   "codemirror_mode": {
    "name": "ipython",
    "version": 3
   },
   "file_extension": ".py",
   "mimetype": "text/x-python",
   "name": "python",
   "nbconvert_exporter": "python",
   "pygments_lexer": "ipython3",
   "version": "3.12.4"
  }
 },
 "nbformat": 4,
 "nbformat_minor": 5
}
