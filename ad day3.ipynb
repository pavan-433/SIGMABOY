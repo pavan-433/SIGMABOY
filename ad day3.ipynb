{
 "cells": [
  {
   "cell_type": "code",
   "execution_count": 1,
   "id": "706a6118-4521-4382-aef8-3ebee4b9b9cc",
   "metadata": {},
   "outputs": [
    {
     "data": {
      "text/plain": [
       "[23, 64, 56, 73]"
      ]
     },
     "execution_count": 1,
     "metadata": {},
     "output_type": "execute_result"
    }
   ],
   "source": [
    "a=[23,64,56,73]\n",
    "a"
   ]
  },
  {
   "cell_type": "code",
   "execution_count": 28,
   "id": "e01dd680-e9bb-484f-ac0a-83b6e3cf074c",
   "metadata": {},
   "outputs": [
    {
     "data": {
      "text/plain": [
       "[203, 'Hyderabad', 45, True, 'banglore', 78, 175, 34, 90]"
      ]
     },
     "execution_count": 28,
     "metadata": {},
     "output_type": "execute_result"
    }
   ],
   "source": [
    "c=[203,'Hyderabad',45,True,'banglore',78,175,34,90]\n",
    "c"
   ]
  },
  {
   "cell_type": "code",
   "execution_count": 30,
   "id": "5a0687a1-bb3b-4d9b-b428-95be18456ab0",
   "metadata": {},
   "outputs": [
    {
     "data": {
      "text/plain": [
       "[45, True, 'banglore', 78]"
      ]
     },
     "execution_count": 30,
     "metadata": {},
     "output_type": "execute_result"
    }
   ],
   "source": [
    "c[2:6]\n"
   ]
  },
  {
   "cell_type": "code",
   "execution_count": null,
   "id": "0cbf856d-d91b-4171-a60a-af62bc53af8a",
   "metadata": {},
   "outputs": [],
   "source": [
    "c[2]\n"
   ]
  },
  {
   "cell_type": "code",
   "execution_count": 32,
   "id": "5a895440-51ae-478c-8d99-fd07684bab17",
   "metadata": {},
   "outputs": [
    {
     "data": {
      "text/plain": [
       "'Hyderabad'"
      ]
     },
     "execution_count": 32,
     "metadata": {},
     "output_type": "execute_result"
    }
   ],
   "source": [
    "c[1]"
   ]
  },
  {
   "cell_type": "code",
   "execution_count": 58,
   "id": "aaa49c46-afe7-4d62-8a35-455be165b412",
   "metadata": {},
   "outputs": [
    {
     "data": {
      "text/plain": [
       "'banglore'"
      ]
     },
     "execution_count": 58,
     "metadata": {},
     "output_type": "execute_result"
    }
   ],
   "source": [
    "c.append('banglore')\n",
    "\n",
    "c[-1]"
   ]
  },
  {
   "cell_type": "code",
   "execution_count": 36,
   "id": "050ff9af-17b2-4914-9d84-252adb6ac339",
   "metadata": {},
   "outputs": [
    {
     "data": {
      "text/plain": [
       "[45, True, 'banglore', 78, 175]"
      ]
     },
     "execution_count": 36,
     "metadata": {},
     "output_type": "execute_result"
    }
   ],
   "source": [
    "c[2:-2]"
   ]
  },
  {
   "cell_type": "code",
   "execution_count": 42,
   "id": "7dda948c-7ba3-47f7-83d6-52d51e7c0077",
   "metadata": {},
   "outputs": [
    {
     "data": {
      "text/plain": [
       "[203, 'Hyderabad', 45, True, 'banglore', 78, 175, 34, 90, '45', '45']"
      ]
     },
     "execution_count": 42,
     "metadata": {},
     "output_type": "execute_result"
    }
   ],
   "source": [
    "c.append('45')\n",
    "c"
   ]
  },
  {
   "cell_type": "code",
   "execution_count": 46,
   "id": "b2f77bf8-9cc2-46fe-9082-d2ec2e061439",
   "metadata": {},
   "outputs": [
    {
     "data": {
      "text/plain": [
       "[203, 'Hyderabad', 70, 45, True, 'banglore', 78, 175, 34, 90, '45', '45']"
      ]
     },
     "execution_count": 46,
     "metadata": {},
     "output_type": "execute_result"
    }
   ],
   "source": [
    "c.insert(2,70)\n",
    "c"
   ]
  },
  {
   "cell_type": "code",
   "execution_count": 52,
   "id": "b572f560-c448-4db0-bcfa-b11c3e460274",
   "metadata": {},
   "outputs": [],
   "source": [
    "c.insert(0,'mumbai')"
   ]
  },
  {
   "cell_type": "code",
   "execution_count": 54,
   "id": "e54ae1b9-d10a-4285-a88a-8a2cff890085",
   "metadata": {},
   "outputs": [
    {
     "name": "stdout",
     "output_type": "stream",
     "text": [
      "['mumbai', 'delhi', 203, 'Hyderabad', 70, 45, True, 'banglore', 78, 175, 34, 90, '45', '45']\n"
     ]
    }
   ],
   "source": [
    "print(c)"
   ]
  },
  {
   "cell_type": "code",
   "execution_count": null,
   "id": "8b6d4e79-40a9-46ae-ad8b-794304b0a4ec",
   "metadata": {},
   "outputs": [],
   "source": []
  }
 ],
 "metadata": {
  "kernelspec": {
   "display_name": "Python 3 (ipykernel)",
   "language": "python",
   "name": "python3"
  },
  "language_info": {
   "codemirror_mode": {
    "name": "ipython",
    "version": 3
   },
   "file_extension": ".py",
   "mimetype": "text/x-python",
   "name": "python",
   "nbconvert_exporter": "python",
   "pygments_lexer": "ipython3",
   "version": "3.12.4"
  }
 },
 "nbformat": 4,
 "nbformat_minor": 5
}
